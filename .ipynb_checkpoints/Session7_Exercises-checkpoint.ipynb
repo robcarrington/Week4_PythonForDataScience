{
 "cells": [
  {
   "cell_type": "markdown",
   "metadata": {},
   "source": [
    "# Python for Data Science, Level I\n",
    "### *Session \\#7*\n",
    "---\n",
    "\n",
    "### Helpful shortcuts\n",
    "---\n",
    "\n",
    "**SHIFT** + **ENTER** ----> Execute Cell\n",
    "\n",
    "**TAB** ----> See autocomplete options\n",
    "\n",
    "**ESC** then **b** ----> Create Cell \n",
    "\n",
    "**ESC** then **dd** ----> Delete Cell\n",
    "\n",
    "**\\[python expression\\]?** ---> Explanation of that Python expression\n",
    "\n",
    "**ESC** then **m** then __ENTER__ ----> Switch to Markdown mode"
   ]
  },
  {
   "cell_type": "markdown",
   "metadata": {},
   "source": [
    "## I. Calling APIs\n",
    "\n",
    "### Warm Ups\n",
    "\n",
    "---\n",
    "\n",
    "**Import requests package:** `import requests`"
   ]
  },
  {
   "cell_type": "code",
   "execution_count": null,
   "metadata": {},
   "outputs": [],
   "source": []
  },
  {
   "cell_type": "markdown",
   "metadata": {},
   "source": [
    "**GET request:** `response = requests.get('https://api.iextrading.com/1.0/stock/aapl/financials')`"
   ]
  },
  {
   "cell_type": "code",
   "execution_count": 136,
   "metadata": {},
   "outputs": [],
   "source": [
    "response = requests.get('https://api.iextrading.com/1.0/stock/aapl/financials')"
   ]
  },
  {
   "cell_type": "markdown",
   "metadata": {},
   "source": [
    "**Response as string:** `response.text`"
   ]
  },
  {
   "cell_type": "code",
   "execution_count": null,
   "metadata": {},
   "outputs": [],
   "source": []
  },
  {
   "cell_type": "markdown",
   "metadata": {},
   "source": [
    "**Response as dictionary:** `data = response.json()`"
   ]
  },
  {
   "cell_type": "code",
   "execution_count": null,
   "metadata": {},
   "outputs": [],
   "source": []
  },
  {
   "cell_type": "markdown",
   "metadata": {},
   "source": [
    "**Accessing nested data:** `data['financials'][0]['totalCash']`"
   ]
  },
  {
   "cell_type": "code",
   "execution_count": null,
   "metadata": {},
   "outputs": [],
   "source": []
  },
  {
   "cell_type": "markdown",
   "metadata": {},
   "source": [
    "### Exercises\n",
    "---"
   ]
  },
  {
   "cell_type": "markdown",
   "metadata": {},
   "source": [
    "**1. Use requests to send a GET request to the following URL, and store the response as** `response`"
   ]
  },
  {
   "cell_type": "code",
   "execution_count": null,
   "metadata": {},
   "outputs": [],
   "source": [
    "url = 'https://api.iextrading.com/1.0/stock/aapl/company'"
   ]
  },
  {
   "cell_type": "markdown",
   "metadata": {},
   "source": [
    "**2. Convert the response into a dictionary using the** `.json()` **method. Print the website from the API data.**"
   ]
  },
  {
   "cell_type": "code",
   "execution_count": null,
   "metadata": {},
   "outputs": [],
   "source": []
  },
  {
   "cell_type": "markdown",
   "metadata": {},
   "source": [
    "**3. Using the same steps as above, create a function that takes a stock symbol as input and returns the name of the CEO.**"
   ]
  },
  {
   "cell_type": "code",
   "execution_count": null,
   "metadata": {},
   "outputs": [],
   "source": []
  },
  {
   "cell_type": "markdown",
   "metadata": {},
   "source": [
    "### Extra Credit\n",
    "---"
   ]
  },
  {
   "cell_type": "markdown",
   "metadata": {},
   "source": [
    "**1. Use for-loops to modify the above function to accept a list of stock symbols instead of one. The function should return a list of CEO names.**."
   ]
  },
  {
   "cell_type": "code",
   "execution_count": null,
   "metadata": {},
   "outputs": [],
   "source": []
  },
  {
   "cell_type": "markdown",
   "metadata": {},
   "source": [
    "## II. Merging Data\n",
    "\n",
    "### Warm Ups\n",
    "---"
   ]
  },
  {
   "cell_type": "markdown",
   "metadata": {},
   "source": [
    "**Dataframe from dictionaries:** `aapl_quarterly = pd.DataFrame.from_dict(data['financials'])`"
   ]
  },
  {
   "cell_type": "code",
   "execution_count": null,
   "metadata": {},
   "outputs": [],
   "source": []
  },
  {
   "cell_type": "markdown",
   "metadata": {},
   "source": [
    "**Appending to a DataFrame:** `df1.append(df2)`"
   ]
  },
  {
   "cell_type": "code",
   "execution_count": null,
   "metadata": {},
   "outputs": [],
   "source": []
  },
  {
   "cell_type": "markdown",
   "metadata": {},
   "source": [
    "**Concatenating a list of DataFrames, enforcing no duplicates:** `pd.concat([df1, df2, verify_integrity=True])`\n",
    "\n",
    "Note: Can also set ignore_index=True to throw away indexes and create all new row numbers."
   ]
  },
  {
   "cell_type": "code",
   "execution_count": null,
   "metadata": {},
   "outputs": [],
   "source": []
  },
  {
   "cell_type": "markdown",
   "metadata": {},
   "source": [
    "**Merge two dataframes by index:** `pd.merge(df1, df2)`"
   ]
  },
  {
   "cell_type": "code",
   "execution_count": null,
   "metadata": {},
   "outputs": [],
   "source": []
  },
  {
   "cell_type": "markdown",
   "metadata": {},
   "source": [
    "**Merge two dataframes by column:** `pd.merge(df1, df2, on='employee')`"
   ]
  },
  {
   "cell_type": "code",
   "execution_count": null,
   "metadata": {},
   "outputs": [],
   "source": []
  },
  {
   "cell_type": "markdown",
   "metadata": {},
   "source": [
    "**Merge two dataframes by column:** `pd.merge(df1, df2, left_on='', right_on='')`"
   ]
  },
  {
   "cell_type": "code",
   "execution_count": null,
   "metadata": {},
   "outputs": [],
   "source": []
  },
  {
   "cell_type": "markdown",
   "metadata": {},
   "source": [
    "**Merge two dataframes by column:** `pd.merge(df1, df2, how=\"inner\")`\n",
    "    \n",
    "Note: The other options are \"outer\", \"left\" and \"right\""
   ]
  },
  {
   "cell_type": "code",
   "execution_count": null,
   "metadata": {},
   "outputs": [],
   "source": []
  },
  {
   "cell_type": "markdown",
   "metadata": {},
   "source": [
    "### Exercises\n",
    "---"
   ]
  },
  {
   "cell_type": "markdown",
   "metadata": {},
   "source": [
    "**1. Create dataframes from the two urls below, and use append to combine them.**\n",
    "   "
   ]
  },
  {
   "cell_type": "code",
   "execution_count": 212,
   "metadata": {},
   "outputs": [],
   "source": [
    "aapl_1 = 'https://api.iextrading.com/1.0/stock/aapl/chart/date/20190328'\n",
    "aapl_2 = 'https://api.iextrading.com/1.0/stock/aapl/chart/date/20190329'\n",
    "\n",
    "aapl_df = pd.DataFrame.from_dict(requests.get(url2).json()).append(pd.DataFrame.from_dict(requests.get(url1).json()))"
   ]
  },
  {
   "cell_type": "markdown",
   "metadata": {},
   "source": [
    "**2. Use the urls below to get a dataframe of the S&P 500 price over the same period.**\n",
    "\n",
    "**Use pd.merge to combine the dataframes, then narrow the columns to the date and closing prices of each stock**\n",
    "\n",
    "Hint: After a merge, duplicate columns will suffixed with \\_x and \\_y to distinguish. So your final dataframe should have columns of: date, close_x, close_y. "
   ]
  },
  {
   "cell_type": "code",
   "execution_count": 215,
   "metadata": {},
   "outputs": [],
   "source": [
    "spy_1 = 'https://api.iextrading.com/1.0/stock/spy/chart/date/20190328'\n",
    "spy_2 = 'https://api.iextrading.com/1.0/stock/spy/chart/date/20190329'"
   ]
  },
  {
   "cell_type": "markdown",
   "metadata": {},
   "source": [
    "**3. Create dataframes from the two urls below, and use merge to find the percent change the day each dividend was announced.**\n",
    "\n",
    "The merge will use the 'declaredDate' from the dividend data and the \"date\" column from the price data."
   ]
  },
  {
   "cell_type": "code",
   "execution_count": 216,
   "metadata": {},
   "outputs": [],
   "source": [
    "dividend_url = 'https://api.iextrading.com/1.0/stock/aapl/dividends/5y'\n",
    "price_url = 'https://api.iextrading.com/1.0/stock/aapl/chart/5y'"
   ]
  },
  {
   "cell_type": "code",
   "execution_count": 91,
   "metadata": {},
   "outputs": [],
   "source": [
    "import requests\n",
    "import pandas as pd\n",
    "\n",
    "symbols = ['aapl', 'gs']\n",
    "symbols_string = \",\".join(symbols)\n",
    "\n",
    "# historical_url = \"https://api.iextrading.com/1.0/stock/market/chart/3m?symbols=\" + symbols_string\n",
    "news_url = \"https://api.iextrading.com/1.0/stock/market/batch?last=1&types=news&symbols=\" + symbols_string\n",
    "previous_url = \"https://api.iextrading.com/1.0/stock/market/batch?types=previous&symbols=\" + symbols_string\n",
    "# Start with historical data\n",
    "# overlay news headlines, join on symbol and date\n",
    "\n",
    "# start with latest data for a bunch of stocks\n",
    "# overlay latest headline\n",
    "# overlay with sector performance\n",
    "# overlay with company data\n",
    "\n",
    "# sector_url = \"https://api.iextrading.com/1.0/stock/market/sector-performance\"\n",
    "stats_url = \"https://api.iextrading.com/1.0/stock/market/batch?symbols=aapl&types=stats\"\n",
    "previous_data = requests.get(previous_url).json()\n",
    "financials_url = \"https://api.iextrading.com/1.0/stock/aapl/financials\"\n",
    "historical_data = requests.get(historical_url).json()\n",
    "news_data = requests.get(news_url).json()\n",
    "sector_data = requests.get(sector_url).json()"
   ]
  }
 ],
 "metadata": {
  "kernelspec": {
   "display_name": "Python 3",
   "language": "python",
   "name": "python3"
  },
  "language_info": {
   "codemirror_mode": {
    "name": "ipython",
    "version": 3
   },
   "file_extension": ".py",
   "mimetype": "text/x-python",
   "name": "python",
   "nbconvert_exporter": "python",
   "pygments_lexer": "ipython3",
   "version": "3.6.8"
  }
 },
 "nbformat": 4,
 "nbformat_minor": 2
}
