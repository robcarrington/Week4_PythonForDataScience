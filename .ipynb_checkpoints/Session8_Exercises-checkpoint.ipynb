{
 "cells": [
  {
   "cell_type": "markdown",
   "metadata": {},
   "source": [
    "# Python for Data Science, Level I\n",
    "### *Session \\#8*\n",
    "---\n",
    "\n",
    "### Helpful shortcuts\n",
    "---\n",
    "\n",
    "**SHIFT** + **ENTER** ----> Execute Cell\n",
    "\n",
    "**TAB** ----> See autocomplete options\n",
    "\n",
    "**ESC** then **b** ----> Create Cell \n",
    "\n",
    "**ESC** then **dd** ----> Delete Cell\n",
    "\n",
    "**\\[python expression\\]?** ---> Explanation of that Python expression\n",
    "\n",
    "**ESC** then **m** then __ENTER__ ----> Switch to Markdown mode"
   ]
  },
  {
   "cell_type": "markdown",
   "metadata": {},
   "source": [
    "## I. Bar Charts and Major Customizations\n",
    "\n",
    "### Warm Ups\n",
    "\n",
    "---\n",
    "\n",
    "**Import pandas and matplotlib:**"
   ]
  },
  {
   "cell_type": "code",
   "execution_count": 78,
   "metadata": {},
   "outputs": [],
   "source": [
    "import pandas as pd\n",
    "import matplotlib.pyplot as plt"
   ]
  },
  {
   "cell_type": "markdown",
   "metadata": {},
   "source": [
    "**Set base style:** `plt.style.use('seaborn')`\n",
    "\n",
    "*Note: This page lists [all base styles](https://matplotlib.org/gallery/style_sheets/style_sheets_reference.html) supported by Matplotlib.* "
   ]
  },
  {
   "cell_type": "code",
   "execution_count": null,
   "metadata": {},
   "outputs": [],
   "source": []
  },
  {
   "cell_type": "markdown",
   "metadata": {},
   "source": [
    "**Create bar chart and save figure:**\n",
    "\n",
    "```python\n",
    "my_axes = animal_df.plot(kind='bar', width=0.5)\n",
    "fig = plt.gcf()\n",
    "```\n",
    "\n",
    "*Note: `gfc()` is short for \"get current figure\"*"
   ]
  },
  {
   "cell_type": "code",
   "execution_count": null,
   "metadata": {},
   "outputs": [],
   "source": []
  },
  {
   "cell_type": "markdown",
   "metadata": {},
   "source": [
    "**Set figure size:** `fig.set_size_inches(18, 6)`"
   ]
  },
  {
   "cell_type": "code",
   "execution_count": null,
   "metadata": {},
   "outputs": [],
   "source": []
  },
  {
   "cell_type": "markdown",
   "metadata": {},
   "source": [
    "**Set title of plot:**  `my_axes.set_title(\"Awesome title\")`\n",
    "\n",
    "*Note: Can optionally also set* `fontsize` *and* `fontname`. *This page lists [all the fonts](http://jonathansoma.com/lede/data-studio/matplotlib/list-all-fonts-available-in-matplotlib-plus-samples/) supported by Matplotlib*"
   ]
  },
  {
   "cell_type": "code",
   "execution_count": null,
   "metadata": {},
   "outputs": [],
   "source": []
  },
  {
   "cell_type": "markdown",
   "metadata": {},
   "source": [
    "**Set axis label:** `my_axes.set_xlabel(\"Taxonomy\")`\n",
    "\n",
    "*Note: Can optionally also set* `fontsize` *and* `fontname`"
   ]
  },
  {
   "cell_type": "code",
   "execution_count": null,
   "metadata": {},
   "outputs": [],
   "source": []
  },
  {
   "cell_type": "markdown",
   "metadata": {},
   "source": [
    "### Exercises\n",
    "---"
   ]
  },
  {
   "cell_type": "markdown",
   "metadata": {},
   "source": [
    "**1. Create a dataframe from the file** `animal_lifespans.csv`"
   ]
  },
  {
   "cell_type": "code",
   "execution_count": 99,
   "metadata": {},
   "outputs": [],
   "source": [
    "animal_df = pd.read_csv(\"animal_lifespans.csv\", encoding='latin-1')"
   ]
  },
  {
   "cell_type": "markdown",
   "metadata": {},
   "source": [
    "**2. Create a smaller dataframe with just the columns** `TaxonClass`, `Male MLE`, `Female MLE`, **and** `Overall MLE`. **Drop rows with any nulls using** `.dropna()` **dataframe method.**"
   ]
  },
  {
   "cell_type": "code",
   "execution_count": null,
   "metadata": {},
   "outputs": [],
   "source": []
  },
  {
   "cell_type": "markdown",
   "metadata": {},
   "source": [
    "**3. Group on the column** `TaxonClass` **and take the mean. Plot the result as a bar chart, and save it as** `animal_axes`. **Save the figure as** `animal_fig`"
   ]
  },
  {
   "cell_type": "code",
   "execution_count": 153,
   "metadata": {},
   "outputs": [
    {
     "data": {
      "image/png": "[encoded data removed]",
      "text/plain": [
       "<Figure size 576x396 with 1 Axes>"
      ]
     },
     "metadata": {},
     "output_type": "display_data"
    }
   ],
   "source": [
    "animal_axes = animal_df.groupby(\"TaxonClass\").mean().plot(kind='bar', width=0.8)\n",
    "animal_fig = plt.gcf()"
   ]
  },
  {
   "cell_type": "markdown",
   "metadata": {},
   "source": [
    "**4. Give the bar chart a title and resize it to 12\" x 6\". Label the x-axis as** `Class` **and the y-axis as** `Life Expectancy in Years`"
   ]
  },
  {
   "cell_type": "code",
   "execution_count": null,
   "metadata": {},
   "outputs": [],
   "source": []
  },
  {
   "cell_type": "markdown",
   "metadata": {},
   "source": [
    "### Extra Credit\n",
    "---"
   ]
  },
  {
   "cell_type": "markdown",
   "metadata": {},
   "source": [
    "**1. Try saving your figure using** `animal_fig.savefig()`. **You can use the parameter** `dpi` **to control resolution of the output.** `dpi` **is set to 100 by default**"
   ]
  },
  {
   "cell_type": "code",
   "execution_count": null,
   "metadata": {},
   "outputs": [],
   "source": []
  },
  {
   "cell_type": "markdown",
   "metadata": {},
   "source": [
    "## II. Scatter Plots and Minor Customization \n",
    "\n",
    "### Warm Ups\n",
    "---"
   ]
  },
  {
   "cell_type": "markdown",
   "metadata": {},
   "source": [
    "**Create a scatter plot and save figure:** `simulated_df.plot(kind='scatter', x=\"A\", y=\"B\")`"
   ]
  },
  {
   "cell_type": "code",
   "execution_count": 194,
   "metadata": {},
   "outputs": [
    {
     "data": {
      "image/png": "[encoded data removed]",
      "text/plain": [
       "<Figure size 576x396 with 1 Axes>"
      ]
     },
     "metadata": {},
     "output_type": "display_data"
    }
   ],
   "source": [
    "import numpy as np\n",
    "simulated_df = pd.DataFrame(np.random.randint(0,100,size=(100, 2)), columns=list('AB'))\n",
    "\n",
    "scatter_axes = simulated_df.plot(kind='scatter', x=\"A\", y=\"B\")\n",
    "scatter_fig = plt.gcf()"
   ]
  },
  {
   "cell_type": "markdown",
   "metadata": {},
   "source": [
    "**Set background color:** `scatter_axes.set_facecolor('#F5F5F5')`"
   ]
  },
  {
   "cell_type": "code",
   "execution_count": null,
   "metadata": {},
   "outputs": [],
   "source": []
  },
  {
   "cell_type": "markdown",
   "metadata": {},
   "source": [
    "**Set grid style:** `scatter_axes.grid(color='pink', linewidth=2)`\n",
    "\n",
    "*Note: To disable use* `scatter_axes.grid(False)`. *Many other parameters available* [here](https://matplotlib.org/api/_as_gen/matplotlib.axes.Axes.grid.html)."
   ]
  },
  {
   "cell_type": "code",
   "execution_count": null,
   "metadata": {},
   "outputs": [],
   "source": []
  },
  {
   "cell_type": "markdown",
   "metadata": {},
   "source": [
    "**Set range for axis:** `scatter_axes.set_ylim(-20, 120)`"
   ]
  },
  {
   "cell_type": "code",
   "execution_count": null,
   "metadata": {},
   "outputs": [],
   "source": []
  },
  {
   "cell_type": "markdown",
   "metadata": {},
   "source": [
    "**Place ticks on axis:** `scatter_axes.set_yticks([0, 25, 50, 75, 100])` "
   ]
  },
  {
   "cell_type": "code",
   "execution_count": null,
   "metadata": {},
   "outputs": [],
   "source": []
  },
  {
   "cell_type": "markdown",
   "metadata": {},
   "source": [
    "**Add labels to ticks:** \n",
    "\n",
    "```python \n",
    "new_labels = ['Negative Twenty-five', 'Zero', 'Twenty-five', 'Fifty', 'Seventy-Five', 'One Hundred', 'A Lot']\n",
    "scatter_axes.set_xticklabels(new_labels, fontsize=14, rotation='horizontal')`\n",
    "```\n",
    "*Note: Matplotlib demands a list of labels even if you don't want to change them, but you can reuse the existing ones by using* `scatter_axes.get_xticklabels()`"
   ]
  },
  {
   "cell_type": "code",
   "execution_count": null,
   "metadata": {},
   "outputs": [],
   "source": []
  },
  {
   "cell_type": "markdown",
   "metadata": {},
   "source": [
    "**Add annotations for data points:** \n",
    "\n",
    "```python\n",
    "for index, row in simulated_df.iterrows():\n",
    "    annotation = (row['A'], row['B'])\n",
    "    scatter_axes.annotate(annotation, xy=(row['A'], row['B']), fontsize=12)\n",
    "```"
   ]
  },
  {
   "cell_type": "code",
   "execution_count": null,
   "metadata": {},
   "outputs": [],
   "source": []
  },
  {
   "cell_type": "markdown",
   "metadata": {},
   "source": [
    "### Exercises\n",
    "---"
   ]
  },
  {
   "cell_type": "markdown",
   "metadata": {},
   "source": [
    "**1. Create a dataframe from the url below, using** `requests.get()` **and** `pd.DataFrame.from_dict()`\n",
    "   "
   ]
  },
  {
   "cell_type": "code",
   "execution_count": 196,
   "metadata": {},
   "outputs": [],
   "source": [
    "import requests\n",
    "got_url = 'https://int.nyt.com/newsgraphics/2017/2017-07-17-got-matrix/mean.json'\n",
    "\n",
    "\n",
    "got_df = pd.DataFrame.from_dict(requests.get(got_url).json())"
   ]
  },
  {
   "cell_type": "markdown",
   "metadata": {},
   "source": [
    "**2. Look at the first few rows using** `.head()` **and notice the column** `physical` **counts lower scores as better.**\n",
    "\n",
    "**Flip this column to work the opposite way, by subtracting each score from 1.**\n",
    "\n",
    "*Hint: Use Numpy broadcasting*"
   ]
  },
  {
   "cell_type": "code",
   "execution_count": 199,
   "metadata": {},
   "outputs": [],
   "source": [
    "got_df['physical'] = 1 - got_df['physical']"
   ]
  },
  {
   "cell_type": "markdown",
   "metadata": {},
   "source": [
    "**3. Create a scatter plot of the dataframe, using** `moral` **as the x-axis and** `physical` **as the y-axis.**\n",
    "\n",
    "**Store the plot as** `got_axes` **and the figure as** `got_fig`"
   ]
  },
  {
   "cell_type": "code",
   "execution_count": 206,
   "metadata": {},
   "outputs": [
    {
     "data": {
      "image/png": "[encoded data removed]",
      "text/plain": [
       "<Figure size 864x576 with 1 Axes>"
      ]
     },
     "metadata": {},
     "output_type": "display_data"
    }
   ],
   "source": [
    "got_axes = got_df.plot(kind='scatter', x='moral', y='physical')\n",
    "got_fig = plt.gcf()\n",
    "got_fig.set_size_inches(12, 8)"
   ]
  },
  {
   "cell_type": "markdown",
   "metadata": {},
   "source": [
    "**4. Resize the figure to 12\" x 8\". Then write a for-loop to add each character's name as an annotation.**\n",
    "\n",
    "*Hint: While annotating, you can use .replace() to remove hyphens and .title() to title-case each name.*"
   ]
  },
  {
   "cell_type": "code",
   "execution_count": null,
   "metadata": {},
   "outputs": [],
   "source": []
  },
  {
   "cell_type": "markdown",
   "metadata": {},
   "source": [
    "### Extra Credit\n",
    "---"
   ]
  },
  {
   "cell_type": "markdown",
   "metadata": {},
   "source": [
    "**1. Clean up the graph by providing better labels for each axis, and by adding a title on top.**"
   ]
  },
  {
   "cell_type": "code",
   "execution_count": null,
   "metadata": {},
   "outputs": [],
   "source": []
  },
  {
   "cell_type": "markdown",
   "metadata": {},
   "source": [
    "## II. Histograms and Finishing Touches \n",
    "\n",
    "\n",
    "### Warm Ups\n",
    "---\n",
    "\n",
    "**Create a histogram from one column:** `simulated_df['A'].plot(kind=\"hist\", width=3, bins=)`"
   ]
  },
  {
   "cell_type": "code",
   "execution_count": null,
   "metadata": {},
   "outputs": [],
   "source": []
  },
  {
   "cell_type": "code",
   "execution_count": 213,
   "metadata": {},
   "outputs": [
    {
     "name": "stdout",
     "output_type": "stream",
     "text": [
      "/anaconda3/bin/Python\r\n"
     ]
    }
   ],
   "source": [
    "!which Python"
   ]
  },
  {
   "cell_type": "code",
   "execution_count": null,
   "metadata": {},
   "outputs": [],
   "source": []
  },
  {
   "cell_type": "code",
   "execution_count": null,
   "metadata": {},
   "outputs": [],
   "source": []
  }
 ],
 "metadata": {
  "kernelspec": {
   "display_name": "Python 3",
   "language": "python",
   "name": "python3"
  },
  "language_info": {
   "codemirror_mode": {
    "name": "ipython",
    "version": 3
   },
   "file_extension": ".py",
   "mimetype": "text/x-python",
   "name": "python",
   "nbconvert_exporter": "python",
   "pygments_lexer": "ipython3",
   "version": "3.6.8"
  }
 },
 "nbformat": 4,
 "nbformat_minor": 2
}
